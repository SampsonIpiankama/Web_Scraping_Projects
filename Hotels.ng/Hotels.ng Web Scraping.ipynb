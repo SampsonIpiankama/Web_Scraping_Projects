{
 "cells": [
  {
   "cell_type": "markdown",
   "id": "4f6ccd74",
   "metadata": {},
   "source": [
    "# Hotels.ng Web Scraping"
   ]
  },
  {
   "cell_type": "markdown",
   "id": "29863620",
   "metadata": {},
   "source": [
    "### Import Libraries"
   ]
  },
  {
   "cell_type": "code",
   "execution_count": 1,
   "id": "24e7ba99",
   "metadata": {},
   "outputs": [],
   "source": [
    "import csv\n",
    "from bs4 import BeautifulSoup\n",
    "from selenium import webdriver"
   ]
  },
  {
   "cell_type": "markdown",
   "id": "319b8d66",
   "metadata": {},
   "source": [
    "### Startup the webdriver\n",
    "Steps:\n",
    "- startup the webdriver\n",
    "- navigate to the target website\n",
    "- use the .get method of the driver and pass in the url as the argument"
   ]
  },
  {
   "cell_type": "code",
   "execution_count": 2,
   "id": "03e4e2e4",
   "metadata": {},
   "outputs": [],
   "source": [
    "driver = webdriver.Chrome(\"C:\\Webdrivers\\chromedriver.exe\")"
   ]
  },
  {
   "cell_type": "code",
   "execution_count": 3,
   "id": "e0939cdb",
   "metadata": {},
   "outputs": [],
   "source": [
    "url = \"https://hotels.ng/\"\n",
    "driver.get(url)"
   ]
  },
  {
   "cell_type": "markdown",
   "id": "1d0c8f0f",
   "metadata": {},
   "source": [
    "### Create a function that will insert a serach term using string formatting\n",
    "\n",
    "Steps: \n",
    "- Assign the url link to a template variable \n",
    "- Delete the keyword search term in the url and replace it with curly braces {}. That is where we are going to insert our search term. \n",
    "- Also replace every space in the search term with a plus(+) to conform with the url convention.\n",
    "- Return the template with the search term inserted with string formatting\n"
   ]
  },
  {
   "cell_type": "code",
   "execution_count": 4,
   "id": "79763c83",
   "metadata": {},
   "outputs": [],
   "source": [
    "def get_url(search_term):\n",
    "    \"\"\"Generate a url from a search term\"\"\"\n",
    "    template = \"https://hotels.ng/hotels-in-{}/\"\n",
    "    search_term = search_term.replace(\" \", \"+\")\n",
    "    return template.format(search_term)"
   ]
  },
  {
   "cell_type": "markdown",
   "id": "e0828021",
   "metadata": {},
   "source": [
    "- Now we have a function that will generate a url based on the search term provided. Let's try it out."
   ]
  },
  {
   "cell_type": "code",
   "execution_count": 5,
   "id": "c72c2010",
   "metadata": {},
   "outputs": [
    {
     "name": "stdout",
     "output_type": "stream",
     "text": [
      "https://hotels.ng/hotels-in-oyo/\n"
     ]
    }
   ],
   "source": [
    "url = get_url(\"oyo\")\n",
    "print(url)"
   ]
  },
  {
   "cell_type": "code",
   "execution_count": 6,
   "id": "ef06a2cc",
   "metadata": {},
   "outputs": [],
   "source": [
    "driver.get(url)"
   ]
  },
  {
   "cell_type": "markdown",
   "id": "fd17fe4a",
   "metadata": {},
   "source": [
    "### Making the soup\n",
    "\n",
    "- This will give us access to the HTML elements of the website and represent it as a nested data structure.\n",
    "- Beautiful Soup supports the HTML parser included in Python’s standard library, but it also supports a number of third-party Python parsers. One is the lxml parser. We would used the lxml parser because it is faster than the HTML parser.\n",
    "- The driver. page_source retrieves the HTML of the url we passed on driver. get(url) . It gets the same code as seen on our browser when we click Inspect Element.\n",
    "- The find_all() returns all the tags and strings that matches our filters."
   ]
  },
  {
   "cell_type": "code",
   "execution_count": 7,
   "id": "a93a4418",
   "metadata": {},
   "outputs": [],
   "source": [
    "soup = BeautifulSoup(driver.page_source, \"lxml\")"
   ]
  },
  {
   "cell_type": "code",
   "execution_count": 8,
   "id": "df206c0a",
   "metadata": {},
   "outputs": [],
   "source": [
    "listings = soup.find_all(\"div\", class_ = \"col-xs-12 col-sm-8 row listing-hotels-details-box\")"
   ]
  },
  {
   "cell_type": "code",
   "execution_count": 9,
   "id": "a2265643",
   "metadata": {},
   "outputs": [
    {
     "data": {
      "text/plain": [
       "10"
      ]
     },
     "execution_count": 9,
     "metadata": {},
     "output_type": "execute_result"
    }
   ],
   "source": [
    "len(listings)"
   ]
  },
  {
   "cell_type": "markdown",
   "id": "e51efeec",
   "metadata": {},
   "source": [
    "### Data we need from the website\n",
    "\n",
    "- Name\n",
    "- Address\n",
    "- Facilities\n",
    "- Prices\n",
    "- Rating"
   ]
  },
  {
   "cell_type": "markdown",
   "id": "a812b4d9",
   "metadata": {},
   "source": [
    "### Create a prototype model to extract the hotel data\n",
    "\n",
    "- Prototype the extraction of a single record. And then, apply the model to the entire record set. \n",
    "- Assign the first result to the variable card. "
   ]
  },
  {
   "cell_type": "code",
   "execution_count": 10,
   "id": "d688120b",
   "metadata": {},
   "outputs": [],
   "source": [
    "card = listings[0]"
   ]
  },
  {
   "cell_type": "code",
   "execution_count": 11,
   "id": "a543b043",
   "metadata": {},
   "outputs": [],
   "source": [
    "name = card.find(\"div\", class_ = \"listing-hotels-details-property\").text.replace(\"\\n\", \"\")"
   ]
  },
  {
   "cell_type": "code",
   "execution_count": 12,
   "id": "efb9b341",
   "metadata": {},
   "outputs": [
    {
     "data": {
      "text/plain": [
       "' Royal Cedars Hotels And Apartments'"
      ]
     },
     "execution_count": 12,
     "metadata": {},
     "output_type": "execute_result"
    }
   ],
   "source": [
    "name"
   ]
  },
  {
   "cell_type": "code",
   "execution_count": 13,
   "id": "1febab74",
   "metadata": {},
   "outputs": [],
   "source": [
    "address= card.find(\"p\", class_ = \"listing-hotels-address color-dark hidden-md hidden-lg\").text.replace(\"\\n\", \"\")"
   ]
  },
  {
   "cell_type": "code",
   "execution_count": 14,
   "id": "c87d4837",
   "metadata": {},
   "outputs": [],
   "source": [
    "facilities= card.find(\"div\", class_ = \"listing-hotels-facilities hidden-xs\").text.replace(\"\\n\", \"\")"
   ]
  },
  {
   "cell_type": "code",
   "execution_count": 15,
   "id": "c930451f",
   "metadata": {},
   "outputs": [],
   "source": [
    "avg_price_per_night = card.find(\"p\", class_ = \"listing-hotels-prices-discount\").text.replace(\"\\n\", \"\")"
   ]
  },
  {
   "cell_type": "code",
   "execution_count": 16,
   "id": "38b72780",
   "metadata": {},
   "outputs": [],
   "source": [
    "rating = card.find(\"div\", class_ =\"listing-hotels-rating-box\").text.replace(\"\\n\", \"\")"
   ]
  },
  {
   "cell_type": "markdown",
   "id": "16332176",
   "metadata": {},
   "source": [
    "### Put the prototype together\n",
    "Steps to follow:\n",
    "\n",
    "- Generalize the prototype model into a function and apply it to all the hotel listings on the page.\n",
    "- Define a function called get_hotel_listings that accepts a card arguement.\n",
    "- Copy and paste the all the code we've created to get the card data\n",
    "- Add error handling to our def function. \n",
    "- Organize the variable into a tuple and then assign it into an hotel_listings variable.\n",
    "- And then return the hotel_listings variable"
   ]
  },
  {
   "cell_type": "code",
   "execution_count": 17,
   "id": "04fa7dd0",
   "metadata": {},
   "outputs": [],
   "source": [
    "def get_hotel_listings(card):\n",
    "    \"\"\"Extract hotel listings information from the raw html\"\"\"\n",
    "    \n",
    "    #name\n",
    "    name = card.find(\"div\", class_ = \"listing-hotels-details-property\").text.replace(\"\\n\", \"\")\n",
    "    \n",
    "        \n",
    "    #address\n",
    "    address= card.find(\"p\", class_ = \"listing-hotels-address color-dark hidden-md hidden-lg\").text.replace(\"\\n\", \"\")\n",
    "    \n",
    "    \n",
    "    try:\n",
    "        #facilities\n",
    "        facilities= card.find(\"div\", class_ = \"listing-hotels-facilities hidden-xs\").text.replace(\"\\n\", \"\")\n",
    "    except AttributeError:\n",
    "        return\n",
    "        facilities = \" \"\n",
    "    \n",
    "    try:\n",
    "        #average price per night\n",
    "        avg_price_per_night = card.find(\"p\", class_ = \"listing-hotels-prices-discount\").text.replace(\"\\n\", \"\")\n",
    "    except AttributeError:\n",
    "        return \n",
    "    \n",
    "    try:\n",
    "        #ratings\n",
    "        rating = card.find(\"div\", class_ =\"listing-hotels-rating-box\").text.replace(\"\\n\", \"\")\n",
    "    except AttributeError:\n",
    "        return\n",
    "        rating = \" \"\n",
    "    \n",
    "    hotel_listings = (name, address, facilities, avg_price_per_night, rating)\n",
    "    return hotel_listings"
   ]
  },
  {
   "cell_type": "markdown",
   "id": "cc07fdb1",
   "metadata": {},
   "source": [
    "### Apply the prototype model to all listings on the page using a for loop\n",
    "- Create an empty hotels [] list that would contain all of our extracted hotel data.\n",
    "- Use the listings pattern we did above to collect all of the hotel listings on the page to iterate through. "
   ]
  },
  {
   "cell_type": "code",
   "execution_count": 18,
   "id": "89b48128",
   "metadata": {},
   "outputs": [],
   "source": [
    "hotels = []\n",
    "listings = soup.find_all(\"div\", class_ = \"col-xs-12 col-sm-8 row listing-hotels-details-box\")\n",
    "\n",
    "for card in listings:\n",
    "    hotel_lists = get_hotel_listings(card) #checks to see if what we return from the function is empty or not\n",
    "    if hotel_lists:\n",
    "        hotels.append(hotel_lists) #if the hotel_lists has something in it, then we would append that to the hotels list."
   ]
  },
  {
   "cell_type": "markdown",
   "id": "c50deebb",
   "metadata": {},
   "source": [
    "### Print the first 5 listings"
   ]
  },
  {
   "cell_type": "code",
   "execution_count": 19,
   "id": "53e40031",
   "metadata": {},
   "outputs": [
    {
     "data": {
      "text/plain": [
       "[(' Royal Cedars Hotels And Apartments',\n",
       "  'Ibadan, Oyo - Valley View Inn; Plot 7, Block7, Alalubosa G.R.A I...',\n",
       "  'RestaurantPoolBarGym',\n",
       "  '₦23,000avg/night',\n",
       "  '10.0 ExcellentFrom 1 review'),\n",
       " ('The Orchard Hotel',\n",
       "  'Ibadan, Oyo - Opposite NDLEA By Golf Club, Onireke G.R.A',\n",
       "  'InternetRestaurantBar',\n",
       "  '₦12,000avg/night',\n",
       "  '7.0 Very GoodFrom 37 reviews'),\n",
       " ('Joybam Hotel',\n",
       "  'Ibadan, Oyo - Off Ring Road Ososami Behind Liberty Stadium Compl...',\n",
       "  'Bar',\n",
       "  '₦6,300avg/night',\n",
       "  '7.7 Very GoodFrom 11 reviews'),\n",
       " ('Ayotoz Hotel',\n",
       "  'Ibadan, Oyo - 3 Adegbite Street, Opposite Kenny Gee Plaza, UI Ga...',\n",
       "  'RestaurantBar',\n",
       "  '₦3,500avg/night',\n",
       "  '6.2 Very GoodFrom 13 reviews'),\n",
       " ('Live Oak Suites',\n",
       "  'Ibadan, Oyo - NO 8 Alabiamo Street Off Awolowo Avenue,Old Bodija...',\n",
       "  'RestaurantBar',\n",
       "  '₦6,000avg/night',\n",
       "  '6.6 Very GoodFrom 26 reviews')]"
      ]
     },
     "execution_count": 19,
     "metadata": {},
     "output_type": "execute_result"
    }
   ],
   "source": [
    "hotels[:5]"
   ]
  },
  {
   "cell_type": "markdown",
   "id": "11b903c6",
   "metadata": {},
   "source": [
    "### Getting to the next page\n",
    "\n",
    "Steps: \n",
    "\n",
    "- Add the page query to the url using string formatting\n",
    "- Then request the next page until we have extracted from all the pages in the website.\n",
    "- For ease, we need to modify the get url function which we have already defined.\n",
    "- Assign to a url variable template.format. And then pass in our search term as we did previously.\n",
    "- Add the and page and curly braces{}. This would give us with string formatting the next page number. \n",
    "- Finally, we would return the url."
   ]
  },
  {
   "cell_type": "code",
   "execution_count": 20,
   "id": "9b50e5c3",
   "metadata": {},
   "outputs": [],
   "source": [
    "def get_url(search_term):\n",
    "    \"\"\"Generate a url from a search term\"\"\"\n",
    "    template = \"https://hotels.ng/hotels-in-{}/\"\n",
    "    search_term = search_term.replace(\" \", \"+\")\n",
    "    \n",
    "    #add search term query to the url\n",
    "    url = template.format(search_term) #Assign to a url variable template.format. And then pass in our search term as we did previously\n",
    "    \n",
    "    #add page query placeholder\n",
    "    url += \"{}\"\n",
    "    \n",
    "    return url"
   ]
  },
  {
   "cell_type": "markdown",
   "id": "1718fb1e",
   "metadata": {},
   "source": [
    "### Put everything together/ Scraping Multiple Pages"
   ]
  },
  {
   "cell_type": "code",
   "execution_count": 21,
   "id": "7d778280",
   "metadata": {},
   "outputs": [],
   "source": [
    "import csv\n",
    "from bs4 import BeautifulSoup\n",
    "from selenium import webdriver\n",
    "\n",
    "def get_url(search_term):\n",
    "    \"\"\"Generate a url from a search term\"\"\"\n",
    "    template = \"https://hotels.ng/hotels-in-{}/\"\n",
    "    search_term = search_term.replace(\" \", \"+\")\n",
    "    \n",
    "    #add search term query to the url\n",
    "    url = template.format(search_term) #Assign to a url variable template.format. And then pass in our search term as we did previously\n",
    "    \n",
    "    #add page query placeholder\n",
    "    url += \"{}\"\n",
    "    \n",
    "    return url\n",
    "\n",
    "def get_hotel_listings(card):\n",
    "    \"\"\"Extract hotel listings information from the raw html\"\"\"\n",
    "    \n",
    "    #name\n",
    "    name = card.find(\"div\", class_ = \"listing-hotels-details-property\").text.replace(\"\\n\", \"\")\n",
    "    \n",
    "        \n",
    "    #address\n",
    "    address= card.find(\"p\", class_ = \"listing-hotels-address color-dark hidden-md hidden-lg\").text.replace(\"\\n\", \"\")\n",
    "    \n",
    "    try:\n",
    "        #facilities\n",
    "        facilities= card.find(\"div\", class_ = \"listing-hotels-facilities hidden-xs\").text.replace(\"\\n\", \"\")\n",
    "    except AttributeError:\n",
    "        return\n",
    "        facilities = \" \"\n",
    "    \n",
    "    try:\n",
    "        #average price per night\n",
    "        avg_price_per_night = card.find(\"p\", class_ = \"listing-hotels-prices-discount\").text.replace(\"\\n\", \"\")\n",
    "    except AttributeError:\n",
    "        return \n",
    "    \n",
    "    try:\n",
    "        #ratings\n",
    "        rating = card.find(\"div\", class_ =\"listing-hotels-rating-box\").text.replace(\"\\n\", \"\")\n",
    "    except AttributeError:\n",
    "        return\n",
    "        rating = \" \"\n",
    "    \n",
    "    hotel_listings = (name, address, facilities, avg_price_per_night, rating)\n",
    "    return hotel_listings\n",
    "\n",
    "def main(search_term):\n",
    "    \"\"\"Run main program routine\"\"\"\n",
    "    #startup the webdriver\n",
    "    driver = webdriver.Chrome(\"C:\\Webdrivers\\chromedriver.exe\")\n",
    "    \n",
    "    hotel = []\n",
    "    url = get_url(search_term)\n",
    "    \n",
    "    for page in range(1, 10):\n",
    "        driver.get(url.format(page))\n",
    "        soup = BeautifulSoup(driver.page_source, \"lxml\")\n",
    "        listings = soup.find_all(\"div\", class_ = \"col-xs-12 col-sm-8 row listing-hotels-details-box\")\n",
    "        \n",
    "        for card in listings:\n",
    "            hotel_lists = get_hotel_listings(card) \n",
    "            if hotel_lists:\n",
    "                hotels.append(hotel_lists) \n",
    "\n",
    "    driver.close()\n",
    "    \n",
    "    #save the data to a csv file\n",
    "    with open ('hotels_in_rivers.csv', 'w', newline='', encoding= 'utf-8') as csvfile:\n",
    "        writer = csv.writer(csvfile)\n",
    "        writer.writerow(['name', 'address', 'facilities', 'avg_price_per_night', 'rating'])\n",
    "        writer.writerows(hotels)"
   ]
  },
  {
   "cell_type": "markdown",
   "id": "8964b159",
   "metadata": {},
   "source": [
    "Now that everything is created, we can now run the main program. "
   ]
  },
  {
   "cell_type": "code",
   "execution_count": 22,
   "id": "83a442b1",
   "metadata": {},
   "outputs": [],
   "source": [
    "main('rivers')"
   ]
  },
  {
   "cell_type": "code",
   "execution_count": null,
   "id": "54378a08",
   "metadata": {},
   "outputs": [],
   "source": []
  }
 ],
 "metadata": {
  "kernelspec": {
   "display_name": "Python 3 (ipykernel)",
   "language": "python",
   "name": "python3"
  },
  "language_info": {
   "codemirror_mode": {
    "name": "ipython",
    "version": 3
   },
   "file_extension": ".py",
   "mimetype": "text/x-python",
   "name": "python",
   "nbconvert_exporter": "python",
   "pygments_lexer": "ipython3",
   "version": "3.8.11"
  }
 },
 "nbformat": 4,
 "nbformat_minor": 5
}
